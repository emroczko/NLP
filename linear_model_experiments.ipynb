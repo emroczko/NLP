{
 "cells": [
  {
   "cell_type": "code",
   "execution_count": 1,
   "metadata": {},
   "outputs": [
    {
     "name": "stderr",
     "output_type": "stream",
     "text": [
      "c:\\Users\\QbaSo\\AppData\\Local\\Programs\\Python\\Python39\\lib\\site-packages\\requests\\__init__.py:102: RequestsDependencyWarning: urllib3 (1.26.9) or chardet (5.1.0)/charset_normalizer (2.0.12) doesn't match a supported version!\n",
      "  warnings.warn(\"urllib3 ({}) or chardet ({})/charset_normalizer ({}) doesn't match a supported \"\n"
     ]
    }
   ],
   "source": [
    "import time\n",
    "import torch\n",
    "from torch.utils.data import DataLoader, random_split, TensorDataset\n",
    "from torchtext.data import to_map_style_dataset\n",
    "\n",
    "from reviews_dataset import reviews\n",
    "from trainer import Trainer\n",
    "import os\n",
    "from sklearn.metrics import accuracy_score, roc_auc_score, recall_score, confusion_matrix, ConfusionMatrixDisplay, f1_score\n",
    "import numpy as np\n",
    "import pandas as pd\n",
    "import matplotlib.pyplot as plt"
   ]
  },
  {
   "cell_type": "code",
   "execution_count": 68,
   "metadata": {},
   "outputs": [],
   "source": [
    "reviews_labels = {0: \"Negative\",\n",
    "                    1: \"Neutral\",\n",
    "                    2: \"Positive\"}\n",
    "\n",
    "def train(trainer: Trainer, train_dataloader: DataLoader, valid_dataloader: DataLoader, EPOCHS = 10, LR = 5, BATCH_SIZE = 64):\n",
    "    total_accu = None\n",
    "    for epoch in range(1, EPOCHS + 1):\n",
    "        epoch_start_time = time.time()\n",
    "        trainer.train(train_dataloader, epoch)\n",
    "        accu_val = trainer.evaluate(valid_dataloader)\n",
    "        if total_accu is not None and total_accu > accu_val:\n",
    "            trainer.scheduler.step()\n",
    "        else:\n",
    "            total_accu = accu_val\n",
    "        print('-' * 59)\n",
    "        print('| end of epoch {:3d} | time: {:5.2f}s | '\n",
    "              'valid accuracy {:8.3f} '.format(epoch,\n",
    "                                               time.time() - epoch_start_time,\n",
    "                                               accu_val))\n",
    "        print('-' * 59)\n",
    "\n",
    "def predict(trainer, dataloader: DataLoader):\n",
    "    trainer.model.eval()\n",
    "    preds = np.array([])\n",
    "    labels = np.array([])\n",
    "\n",
    "    with torch.no_grad():\n",
    "        for idx, (label, text, offsets) in enumerate(dataloader):\n",
    "            predicted_label = trainer.model(text, offsets)\n",
    "            preds = np.concatenate([preds, predicted_label.argmax(1).cpu().numpy()])\n",
    "            labels = np.concatenate([labels, label.cpu().numpy()])\n",
    "    return preds, labels\n",
    "\n",
    "def evaluate(trainer, dataloader, experimentName):\n",
    "    preds, y_test = predict(trainer, dataloader)\n",
    "    accuracy = accuracy_score(preds, y_test)\n",
    "    recall = recall_score(preds, y_test, average=None)\n",
    "    cm = confusion_matrix(preds, y_test)\n",
    "    disp = ConfusionMatrixDisplay(confusion_matrix=cm, display_labels=['neg','neu','pos'])\n",
    "    f1 = f1_score(preds, y_test, average=None)\n",
    "    disp.plot()\n",
    "\n",
    "    return pd.DataFrame({'experimentName':[experimentName], 'accuracy':[np.round(accuracy, 3)], 'recall':[np.round(recall, 3)], 'f1_score':[np.round(f1,3)], 'training samples':[len(train_dataloader.dataset)]})\n",
    "\n",
    "def getDatasets(dataset_path, BATCH_SIZE, trainer):\n",
    "    train_iter, test_iter = reviews(root=dataset_path)\n",
    "    train_dataset = to_map_style_dataset(train_iter)\n",
    "    test_dataset = to_map_style_dataset(test_iter)\n",
    "    num_train = int(len(train_dataset) * 0.95)\n",
    "    split_train_, split_valid_ = random_split(train_dataset, [num_train, len(train_dataset) - num_train])\n",
    "\n",
    "    train_dataloader = DataLoader(split_train_, batch_size=BATCH_SIZE,\n",
    "                                    shuffle=True, collate_fn=trainer.collate_batch)\n",
    "    valid_dataloader = DataLoader(split_valid_, batch_size=BATCH_SIZE,\n",
    "                                    shuffle=True, collate_fn=trainer.collate_batch)\n",
    "    test_dataloader = DataLoader(test_dataset, batch_size=BATCH_SIZE,\n",
    "                                    shuffle=True, collate_fn=trainer.collate_batch)\n",
    "    return train_dataloader, valid_dataloader\n",
    "    \n",
    "def predictSingleEntry(trainer, text):\n",
    "    with torch.no_grad():\n",
    "        text = torch.tensor(trainer.text_pipeline(text))\n",
    "        output = trainer.model.to('cpu')(text, torch.tensor([0]))\n",
    "        return output.argmax(1).item()"
   ]
  },
  {
   "cell_type": "code",
   "execution_count": 72,
   "metadata": {},
   "outputs": [],
   "source": [
    "results = pd.DataFrame(columns=['experimentName', 'accuracy', 'recall', 'f1_score', 'training samples'])"
   ]
  },
  {
   "cell_type": "code",
   "execution_count": 3,
   "metadata": {},
   "outputs": [],
   "source": [
    "ptm = pd.read_json(\"FinalDatasets/complete_dataset_ptm.json\")"
   ]
  },
  {
   "cell_type": "code",
   "execution_count": 4,
   "metadata": {},
   "outputs": [
    {
     "data": {
      "text/plain": [
       "<AxesSubplot:>"
      ]
     },
     "execution_count": 4,
     "metadata": {},
     "output_type": "execute_result"
    },
    {
     "data": {
      "image/png": "[encoded data removed]",
      "text/plain": [
       "<Figure size 432x288 with 1 Axes>"
      ]
     },
     "metadata": {
      "needs_background": "light"
     },
     "output_type": "display_data"
    }
   ],
   "source": [
    "ptm['label'].hist()"
   ]
  },
  {
   "cell_type": "code",
   "execution_count": 60,
   "metadata": {},
   "outputs": [
    {
     "data": {
      "text/plain": [
       "1865"
      ]
     },
     "execution_count": 60,
     "metadata": {},
     "output_type": "execute_result"
    }
   ],
   "source": [
    "len(train_dataloader.dataset)"
   ]
  },
  {
   "cell_type": "code",
   "execution_count": 61,
   "metadata": {},
   "outputs": [
    {
     "data": {
      "text/plain": [
       "524"
      ]
     },
     "execution_count": 61,
     "metadata": {},
     "output_type": "execute_result"
    }
   ],
   "source": [
    "len(valid_dataloader.dataset)"
   ]
  },
  {
   "cell_type": "code",
   "execution_count": 59,
   "metadata": {},
   "outputs": [
    {
     "data": {
      "text/plain": [
       "99"
      ]
     },
     "execution_count": 59,
     "metadata": {},
     "output_type": "execute_result"
    }
   ],
   "source": [
    "len(test_dataloader.dataset)"
   ]
  },
  {
   "cell_type": "code",
   "execution_count": 73,
   "metadata": {},
   "outputs": [
    {
     "name": "stdout",
     "output_type": "stream",
     "text": [
      "-----------------------------------------------------------\n",
      "| end of epoch   1 | time:  1.31s | valid accuracy    0.863 \n",
      "-----------------------------------------------------------\n",
      "-----------------------------------------------------------\n",
      "| end of epoch   2 | time:  1.30s | valid accuracy    0.880 \n",
      "-----------------------------------------------------------\n",
      "-----------------------------------------------------------\n",
      "| end of epoch   3 | time:  1.06s | valid accuracy    0.899 \n",
      "-----------------------------------------------------------\n",
      "-----------------------------------------------------------\n",
      "| end of epoch   4 | time:  1.15s | valid accuracy    0.887 \n",
      "-----------------------------------------------------------\n",
      "-----------------------------------------------------------\n",
      "| end of epoch   5 | time:  1.20s | valid accuracy    0.897 \n",
      "-----------------------------------------------------------\n",
      "-----------------------------------------------------------\n",
      "| end of epoch   6 | time:  1.15s | valid accuracy    0.899 \n",
      "-----------------------------------------------------------\n",
      "-----------------------------------------------------------\n",
      "| end of epoch   7 | time:  1.21s | valid accuracy    0.897 \n",
      "-----------------------------------------------------------\n",
      "-----------------------------------------------------------\n",
      "| end of epoch   8 | time:  1.23s | valid accuracy    0.897 \n",
      "-----------------------------------------------------------\n",
      "-----------------------------------------------------------\n",
      "| end of epoch   9 | time:  1.18s | valid accuracy    0.897 \n",
      "-----------------------------------------------------------\n",
      "-----------------------------------------------------------\n",
      "| end of epoch  10 | time:  1.19s | valid accuracy    0.897 \n",
      "-----------------------------------------------------------\n",
      "LABEL: Positive TXT: Super mega proszek, bardzo dobry\n",
      "LABEL: Negative TXT: Totalny badziew szkoda pieniędzy, beznadziejny, porażka.\n",
      "LABEL: Negative TXT: Nie domywa ale ładnie pachnie. Zostają smugi\n",
      "LABEL: Positive TXT: Nie rozpuszczają się, dobrze domywają, ładnie pachną, ale bardzo drogie\n"
     ]
    },
    {
     "data": {
      "image/png": "[encoded data removed]",
      "text/plain": [
       "<Figure size 432x288 with 2 Axes>"
      ]
     },
     "metadata": {
      "needs_background": "light"
     },
     "output_type": "display_data"
    }
   ],
   "source": [
    "experimentName = \"training on complete_dataset_ptm\"\n",
    "# Hyperparameters\n",
    "EPOCHS = 10  # epoch\n",
    "LR = 5  # learning rate\n",
    "BATCH_SIZE = 64  # batch size for training\n",
    "\n",
    "dataset_path = 'FinalDatasets/complete_dataset_ptm.json'\n",
    "device = torch.device(\"cuda\" if torch.cuda.is_available() else \"cpu\")\n",
    "dataset = reviews(root=dataset_path, split='train')\n",
    "\n",
    "trainer = Trainer(dataset, device, LR)\n",
    "train_dataloader, test_dataloader = getDatasets(dataset_path, BATCH_SIZE, trainer)\n",
    "train(trainer, train_dataloader, test_dataloader)\n",
    "\n",
    "preds, labels = predict(trainer, train_dataloader)\n",
    "eval = evaluate(trainer, test_dataloader, experimentName)\n",
    "results = pd.concat([results, eval])\n",
    "\n",
    "ex_text_str1 = \"Super mega proszek, bardzo dobry\"\n",
    "ex_text_str2 = \"Totalny badziew szkoda pieniędzy, beznadziejny, porażka.\"\n",
    "ex_text_str3 = \"Nie domywa ale ładnie pachnie. Zostają smugi\"\n",
    "ex_text_str4 = \"Nie rozpuszczają się, dobrze domywają, ładnie pachną, ale bardzo drogie\"\n",
    "\n",
    "print(f\"LABEL: {reviews_labels[predictSingleEntry(trainer, ex_text_str1)]} TXT: {ex_text_str1}\")\n",
    "print(f\"LABEL: {reviews_labels[predictSingleEntry(trainer, ex_text_str2)]} TXT: {ex_text_str2}\")\n",
    "print(f\"LABEL: {reviews_labels[predictSingleEntry(trainer, ex_text_str3)]} TXT: {ex_text_str3}\")\n",
    "print(f\"LABEL: {reviews_labels[predictSingleEntry(trainer, ex_text_str4)]} TXT: {ex_text_str4}\")\n"
   ]
  },
  {
   "cell_type": "code",
   "execution_count": 74,
   "metadata": {},
   "outputs": [
    {
     "name": "stdout",
     "output_type": "stream",
     "text": [
      "-----------------------------------------------------------\n",
      "| end of epoch   1 | time:  0.30s | valid accuracy    0.834 \n",
      "-----------------------------------------------------------\n",
      "-----------------------------------------------------------\n",
      "| end of epoch   2 | time:  0.30s | valid accuracy    0.830 \n",
      "-----------------------------------------------------------\n",
      "-----------------------------------------------------------\n",
      "| end of epoch   3 | time:  0.29s | valid accuracy    0.800 \n",
      "-----------------------------------------------------------\n",
      "-----------------------------------------------------------\n",
      "| end of epoch   4 | time:  0.29s | valid accuracy    0.800 \n",
      "-----------------------------------------------------------\n",
      "-----------------------------------------------------------\n",
      "| end of epoch   5 | time:  0.29s | valid accuracy    0.800 \n",
      "-----------------------------------------------------------\n",
      "-----------------------------------------------------------\n",
      "| end of epoch   6 | time:  0.30s | valid accuracy    0.800 \n",
      "-----------------------------------------------------------\n",
      "-----------------------------------------------------------\n",
      "| end of epoch   7 | time:  0.31s | valid accuracy    0.800 \n",
      "-----------------------------------------------------------\n",
      "-----------------------------------------------------------\n",
      "| end of epoch   8 | time:  0.30s | valid accuracy    0.800 \n",
      "-----------------------------------------------------------\n",
      "-----------------------------------------------------------\n",
      "| end of epoch   9 | time:  0.31s | valid accuracy    0.800 \n",
      "-----------------------------------------------------------\n",
      "-----------------------------------------------------------\n",
      "| end of epoch  10 | time:  0.30s | valid accuracy    0.800 \n",
      "-----------------------------------------------------------\n",
      "LABEL: Positive TXT: Super mega proszek, bardzo dobry\n",
      "LABEL: Positive TXT: Totalny badziew szkoda pieniędzy, beznadziejny, porażka.\n",
      "LABEL: Neutral TXT: Nie domywa ale ładnie pachnie. Zostają smugi\n",
      "LABEL: Positive TXT: Nie rozpuszczają się, dobrze domywają, ładnie pachną, ale bardzo drogie\n"
     ]
    },
    {
     "name": "stderr",
     "output_type": "stream",
     "text": [
      "c:\\Users\\QbaSo\\AppData\\Local\\Programs\\Python\\Python39\\lib\\site-packages\\sklearn\\metrics\\_classification.py:1318: UndefinedMetricWarning: Recall is ill-defined and being set to 0.0 in labels with no true samples. Use `zero_division` parameter to control this behavior.\n",
      "  _warn_prf(average, modifier, msg_start, len(result))\n"
     ]
    },
    {
     "data": {
      "image/png": "[encoded data removed]",
      "text/plain": [
       "<Figure size 432x288 with 2 Axes>"
      ]
     },
     "metadata": {
      "needs_background": "light"
     },
     "output_type": "display_data"
    }
   ],
   "source": [
    "experimentName = \"training on other_reviews\"\n",
    "# Hyperparameters\n",
    "EPOCHS = 10  # epoch\n",
    "LR = 5  # learning rate\n",
    "BATCH_SIZE = 64  # batch size for training\n",
    "\n",
    "dataset_path = 'FinalDatasets/other_reviews.json'\n",
    "device = torch.device(\"cuda\" if torch.cuda.is_available() else \"cpu\")\n",
    "dataset = reviews(root=dataset_path, split='train')\n",
    "\n",
    "trainer = Trainer(dataset, device, LR)\n",
    "train_dataloader, ignored = getDatasets(dataset_path, BATCH_SIZE, trainer)\n",
    "train(trainer, train_dataloader, test_dataloader)\n",
    "\n",
    "preds, labels = predict(trainer, train_dataloader)\n",
    "eval = evaluate(trainer, test_dataloader, experimentName)\n",
    "results = pd.concat([results, eval])\n",
    "\n",
    "ex_text_str1 = \"Super mega proszek, bardzo dobry\"\n",
    "ex_text_str2 = \"Totalny badziew szkoda pieniędzy, beznadziejny, porażka.\"\n",
    "ex_text_str3 = \"Nie domywa ale ładnie pachnie. Zostają smugi\"\n",
    "ex_text_str4 = \"Nie rozpuszczają się, dobrze domywają, ładnie pachną, ale bardzo drogie\"\n",
    "\n",
    "print(f\"LABEL: {reviews_labels[predictSingleEntry(trainer, ex_text_str1)]} TXT: {ex_text_str1}\")\n",
    "print(f\"LABEL: {reviews_labels[predictSingleEntry(trainer, ex_text_str2)]} TXT: {ex_text_str2}\")\n",
    "print(f\"LABEL: {reviews_labels[predictSingleEntry(trainer, ex_text_str3)]} TXT: {ex_text_str3}\")\n",
    "print(f\"LABEL: {reviews_labels[predictSingleEntry(trainer, ex_text_str4)]} TXT: {ex_text_str4}\")\n"
   ]
  },
  {
   "cell_type": "code",
   "execution_count": 76,
   "metadata": {},
   "outputs": [
    {
     "name": "stdout",
     "output_type": "stream",
     "text": [
      "-----------------------------------------------------------\n",
      "| end of epoch   1 | time:  0.29s | valid accuracy    0.721 \n",
      "-----------------------------------------------------------\n",
      "-----------------------------------------------------------\n",
      "| end of epoch   2 | time:  0.32s | valid accuracy    0.731 \n",
      "-----------------------------------------------------------\n",
      "-----------------------------------------------------------\n",
      "| end of epoch   3 | time:  0.28s | valid accuracy    0.687 \n",
      "-----------------------------------------------------------\n",
      "-----------------------------------------------------------\n",
      "| end of epoch   4 | time:  0.24s | valid accuracy    0.676 \n",
      "-----------------------------------------------------------\n",
      "-----------------------------------------------------------\n",
      "| end of epoch   5 | time:  0.24s | valid accuracy    0.676 \n",
      "-----------------------------------------------------------\n",
      "-----------------------------------------------------------\n",
      "| end of epoch   6 | time:  0.24s | valid accuracy    0.676 \n",
      "-----------------------------------------------------------\n",
      "-----------------------------------------------------------\n",
      "| end of epoch   7 | time:  0.25s | valid accuracy    0.676 \n",
      "-----------------------------------------------------------\n",
      "-----------------------------------------------------------\n",
      "| end of epoch   8 | time:  0.24s | valid accuracy    0.676 \n",
      "-----------------------------------------------------------\n",
      "-----------------------------------------------------------\n",
      "| end of epoch   9 | time:  0.24s | valid accuracy    0.676 \n",
      "-----------------------------------------------------------\n",
      "-----------------------------------------------------------\n",
      "| end of epoch  10 | time:  0.25s | valid accuracy    0.676 \n",
      "-----------------------------------------------------------\n",
      "-----------------------------------------------------------\n",
      "| end of epoch   1 | time:  1.71s | valid accuracy    0.676 \n",
      "-----------------------------------------------------------\n",
      "-----------------------------------------------------------\n",
      "| end of epoch   2 | time:  1.24s | valid accuracy    0.676 \n",
      "-----------------------------------------------------------\n",
      "-----------------------------------------------------------\n",
      "| end of epoch   3 | time:  1.29s | valid accuracy    0.676 \n",
      "-----------------------------------------------------------\n",
      "-----------------------------------------------------------\n",
      "| end of epoch   4 | time:  1.17s | valid accuracy    0.676 \n",
      "-----------------------------------------------------------\n",
      "-----------------------------------------------------------\n",
      "| end of epoch   5 | time:  1.22s | valid accuracy    0.676 \n",
      "-----------------------------------------------------------\n",
      "-----------------------------------------------------------\n",
      "| end of epoch   6 | time:  1.15s | valid accuracy    0.676 \n",
      "-----------------------------------------------------------\n",
      "-----------------------------------------------------------\n",
      "| end of epoch   7 | time:  1.13s | valid accuracy    0.676 \n",
      "-----------------------------------------------------------\n",
      "-----------------------------------------------------------\n",
      "| end of epoch   8 | time:  1.19s | valid accuracy    0.676 \n",
      "-----------------------------------------------------------\n",
      "-----------------------------------------------------------\n",
      "| end of epoch   9 | time:  1.13s | valid accuracy    0.676 \n",
      "-----------------------------------------------------------\n",
      "-----------------------------------------------------------\n",
      "| end of epoch  10 | time:  1.22s | valid accuracy    0.676 \n",
      "-----------------------------------------------------------\n",
      "LABEL: Positive TXT: Super mega proszek, bardzo dobry\n",
      "LABEL: Neutral TXT: Totalny badziew szkoda pieniędzy, beznadziejny, porażka.\n",
      "LABEL: Neutral TXT: Nie domywa ale ładnie pachnie. Zostają smugi\n",
      "LABEL: Positive TXT: Nie rozpuszczają się, dobrze domywają, ładnie pachną, ale bardzo drogie\n"
     ]
    },
    {
     "name": "stderr",
     "output_type": "stream",
     "text": [
      "c:\\Users\\QbaSo\\AppData\\Local\\Programs\\Python\\Python39\\lib\\site-packages\\sklearn\\metrics\\_classification.py:1318: UndefinedMetricWarning: Recall is ill-defined and being set to 0.0 in labels with no true samples. Use `zero_division` parameter to control this behavior.\n",
      "  _warn_prf(average, modifier, msg_start, len(result))\n"
     ]
    },
    {
     "data": {
      "image/png": "[encoded data removed]",
      "text/plain": [
       "<Figure size 432x288 with 2 Axes>"
      ]
     },
     "metadata": {
      "needs_background": "light"
     },
     "output_type": "display_data"
    }
   ],
   "source": [
    "experimentName = \"pre-training on other_reviews and training on complete_dataset_ptm\"\n",
    "# Hyperparameters\n",
    "EPOCHS = 10  # epoch\n",
    "LR = 5  # learning rate\n",
    "BATCH_SIZE = 64  # batch size for training\n",
    "\n",
    "dataset_path = 'FinalDatasets/other_reviews.json'\n",
    "device = torch.device(\"cuda\" if torch.cuda.is_available() else \"cpu\")\n",
    "dataset = reviews(root=dataset_path, split='train')\n",
    "\n",
    "trainer = Trainer(dataset, device, LR)\n",
    "train_dataloader, ignored = getDatasets(dataset_path, BATCH_SIZE, trainer)\n",
    "train(trainer, train_dataloader, test_dataloader)\n",
    "\n",
    "# 2nd training\n",
    "dataset_path = 'FinalDatasets/complete_dataset_ptm.json'\n",
    "device = torch.device(\"cuda\" if torch.cuda.is_available() else \"cpu\")\n",
    "dataset = reviews(root=dataset_path, split='train')\n",
    "train_dataloader, ignore = getDatasets(dataset_path, BATCH_SIZE, trainer)\n",
    "train(trainer, train_dataloader, test_dataloader)\n",
    "\n",
    "preds, labels = predict(trainer, train_dataloader)\n",
    "eval = evaluate(trainer, test_dataloader, experimentName)\n",
    "results = pd.concat([results, eval])\n",
    "\n",
    "ex_text_str1 = \"Super mega proszek, bardzo dobry\"\n",
    "ex_text_str2 = \"Totalny badziew szkoda pieniędzy, beznadziejny, porażka.\"\n",
    "ex_text_str3 = \"Nie domywa ale ładnie pachnie. Zostają smugi\"\n",
    "ex_text_str4 = \"Nie rozpuszczają się, dobrze domywają, ładnie pachną, ale bardzo drogie\"\n",
    "\n",
    "print(f\"LABEL: {reviews_labels[predictSingleEntry(trainer, ex_text_str1)]} TXT: {ex_text_str1}\")\n",
    "print(f\"LABEL: {reviews_labels[predictSingleEntry(trainer, ex_text_str2)]} TXT: {ex_text_str2}\")\n",
    "print(f\"LABEL: {reviews_labels[predictSingleEntry(trainer, ex_text_str3)]} TXT: {ex_text_str3}\")\n",
    "print(f\"LABEL: {reviews_labels[predictSingleEntry(trainer, ex_text_str4)]} TXT: {ex_text_str4}\")\n"
   ]
  },
  {
   "cell_type": "code",
   "execution_count": 77,
   "metadata": {},
   "outputs": [
    {
     "data": {
      "text/html": [
       "<div>\n",
       "<style scoped>\n",
       "    .dataframe tbody tr th:only-of-type {\n",
       "        vertical-align: middle;\n",
       "    }\n",
       "\n",
       "    .dataframe tbody tr th {\n",
       "        vertical-align: top;\n",
       "    }\n",
       "\n",
       "    .dataframe thead th {\n",
       "        text-align: right;\n",
       "    }\n",
       "</style>\n",
       "<table border=\"1\" class=\"dataframe\">\n",
       "  <thead>\n",
       "    <tr style=\"text-align: right;\">\n",
       "      <th></th>\n",
       "      <th>experimentName</th>\n",
       "      <th>accuracy</th>\n",
       "      <th>recall</th>\n",
       "      <th>f1_score</th>\n",
       "      <th>training samples</th>\n",
       "    </tr>\n",
       "  </thead>\n",
       "  <tbody>\n",
       "    <tr>\n",
       "      <th>0</th>\n",
       "      <td>training on complete_dataset_ptm</td>\n",
       "      <td>0.897</td>\n",
       "      <td>[0.659, 0.25, 0.93]</td>\n",
       "      <td>[0.637, 0.111, 0.953]</td>\n",
       "      <td>9952</td>\n",
       "    </tr>\n",
       "    <tr>\n",
       "      <th>0</th>\n",
       "      <td>training on other_reviews</td>\n",
       "      <td>0.8</td>\n",
       "      <td>[0.0, 0.077, 0.858]</td>\n",
       "      <td>[0.0, 0.09, 0.891]</td>\n",
       "      <td>1865</td>\n",
       "    </tr>\n",
       "    <tr>\n",
       "      <th>0</th>\n",
       "      <td>pre-training on other_reviews and training on ...</td>\n",
       "      <td>0.676</td>\n",
       "      <td>[0.0, 0.029, 0.836]</td>\n",
       "      <td>[0.0, 0.045, 0.808]</td>\n",
       "      <td>9952</td>\n",
       "    </tr>\n",
       "  </tbody>\n",
       "</table>\n",
       "</div>"
      ],
      "text/plain": [
       "                                      experimentName accuracy  \\\n",
       "0                   training on complete_dataset_ptm    0.897   \n",
       "0                          training on other_reviews      0.8   \n",
       "0  pre-training on other_reviews and training on ...    0.676   \n",
       "\n",
       "                recall               f1_score training samples  \n",
       "0  [0.659, 0.25, 0.93]  [0.637, 0.111, 0.953]             9952  \n",
       "0  [0.0, 0.077, 0.858]     [0.0, 0.09, 0.891]             1865  \n",
       "0  [0.0, 0.029, 0.836]    [0.0, 0.045, 0.808]             9952  "
      ]
     },
     "execution_count": 77,
     "metadata": {},
     "output_type": "execute_result"
    }
   ],
   "source": [
    "results"
   ]
  },
  {
   "cell_type": "markdown",
   "metadata": {},
   "source": [
    "# Podsumowa"
   ]
  },
  {
   "attachments": {},
   "cell_type": "markdown",
   "metadata": {},
   "source": [
    "Model liniowy pozwala osiągnąć dobre efekty. Najlepsze efekty osiągnął model trenowany na danych z kubków, tabletek i proszków. Okazuje się, że model wytrenowany na losowych recenzjach gorzej sprawuje się w rozpoznawaniu recenzji kubków tabletek i proszków. Jest to ciekawe zjawisko. Model trenowany na recenzjach z dowolnych kategorii osiągnął 80% accuracy a trenowany na zbiorze danych z kubkami tabletkami i proszkami 90%. Spróbowaliśmy również wytrenować model najpierw na danych z losowych opnii a potem dotrenować na danych z kubkami proszkami i tabletkami. Okazało się, że to podejście nie działa najlepiej. Dochodzi do przetrenowania. model osiągnął accuracy na poziomie 67%.\n",
    "\n",
    "(bardziej wnikliwe wnioski w sprawozdaniu)"
   ]
  }
 ],
 "metadata": {
  "kernelspec": {
   "display_name": "Python 3",
   "language": "python",
   "name": "python3"
  },
  "language_info": {
   "codemirror_mode": {
    "name": "ipython",
    "version": 3
   },
   "file_extension": ".py",
   "mimetype": "text/x-python",
   "name": "python",
   "nbconvert_exporter": "python",
   "pygments_lexer": "ipython3",
   "version": "3.9.10"
  },
  "orig_nbformat": 4,
  "vscode": {
   "interpreter": {
    "hash": "4249f8e087ad731f5e338836e2eb79540285f90ed1dfcc5ccaf8d5c2082bb200"
   }
  }
 },
 "nbformat": 4,
 "nbformat_minor": 2
}
