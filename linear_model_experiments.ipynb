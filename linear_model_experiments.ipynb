{
 "cells": [
  {
   "cell_type": "code",
   "execution_count": 1,
   "metadata": {},
   "outputs": [
    {
     "name": "stderr",
     "output_type": "stream",
     "text": [
      "c:\\Users\\QbaSo\\AppData\\Local\\Programs\\Python\\Python39\\lib\\site-packages\\requests\\__init__.py:102: RequestsDependencyWarning: urllib3 (1.26.9) or chardet (5.1.0)/charset_normalizer (2.0.12) doesn't match a supported version!\n",
      "  warnings.warn(\"urllib3 ({}) or chardet ({})/charset_normalizer ({}) doesn't match a supported \"\n"
     ]
    }
   ],
   "source": [
    "import time\n",
    "import torch\n",
    "from torch.utils.data import DataLoader, random_split, TensorDataset\n",
    "from torchtext.data import to_map_style_dataset\n",
    "\n",
    "from reviews_dataset import reviews\n",
    "from trainer import Trainer\n",
    "import os\n",
    "from sklearn.metrics import accuracy_score, roc_auc_score, recall_score, confusion_matrix, ConfusionMatrixDisplay, f1_score\n",
    "import numpy as np\n",
    "import pandas as pd\n",
    "import matplotlib.pyplot as plt"
   ]
  },
  {
   "cell_type": "code",
   "execution_count": 2,
   "metadata": {},
   "outputs": [],
   "source": [
    "def train(trainer: Trainer, train_dataloader: DataLoader, valid_dataloader: DataLoader, EPOCHS = 10, LR = 5, BATCH_SIZE = 64):\n",
    "    total_accu = None\n",
    "    for epoch in range(1, EPOCHS + 1):\n",
    "        epoch_start_time = time.time()\n",
    "        trainer.train(train_dataloader, epoch)\n",
    "        accu_val = trainer.evaluate(valid_dataloader)\n",
    "        if total_accu is not None and total_accu > accu_val:\n",
    "            trainer.scheduler.step()\n",
    "        else:\n",
    "            total_accu = accu_val\n",
    "        print('-' * 59)\n",
    "        print('| end of epoch {:3d} | time: {:5.2f}s | '\n",
    "              'valid accuracy {:8.3f} '.format(epoch,\n",
    "                                               time.time() - epoch_start_time,\n",
    "                                               accu_val))\n",
    "        print('-' * 59)\n",
    "\n",
    "def predict(trainer, dataloader: DataLoader):\n",
    "    trainer.model.eval()\n",
    "    preds = np.array([])\n",
    "    labels = np.array([])\n",
    "\n",
    "    with torch.no_grad():\n",
    "        for idx, (label, text, offsets) in enumerate(dataloader):\n",
    "            predicted_label = trainer.model(text, offsets)\n",
    "            preds = np.concatenate([preds, (predicted_label.argmax(1) == label).cpu().numpy()])\n",
    "            labels = np.concatenate([labels, label.cpu().numpy()])\n",
    "    return preds, labels\n",
    "\n",
    "def evaluate(trainer, dataloader):\n",
    "    preds, y_test = predict(trainer, dataloader)\n",
    "    accuracy = accuracy_score(preds, y_test)\n",
    "    recall = recall_score(preds, y_test, average=None)\n",
    "    cm = confusion_matrix(preds, y_test)\n",
    "    disp = ConfusionMatrixDisplay(confusion_matrix=cm, display_labels=['neg','neu','pos'])\n",
    "    f1 = f1_score(preds, y_test, average=None)\n",
    "    disp.plot()\n",
    "\n",
    "    return pd.DataFrame({'dataset':[dataset], 'accuracy':[np.round(accuracy, 3)], 'recall':[np.round(recall, 3)], 'f1_score':[np.round(f1,3)], 'training samples':[len(train_dataloader.dataset)]})\n",
    "\n",
    "# def getDatasets(dataset_path, BATCH_SIZE, trainer):\n",
    "#     dataset_iter = reviews(root=dataset_path)\n",
    "#     dataset = to_map_style_dataset(dataset_iter)\n",
    "#     num_train = int(len(dataset) * 0.8)\n",
    "#     split_train_, split_test_ = random_split(dataset, [num_train, len(dataset) - num_train])\n",
    "\n",
    "#     train_dataloader = DataLoader(split_train_, batch_size=BATCH_SIZE,\n",
    "#                                     shuffle=True, collate_fn=trainer.collate_batch)\n",
    "#     test_dataloader = DataLoader(split_test_, batch_size=BATCH_SIZE,\n",
    "#                                     shuffle=True, collate_fn=trainer.collate_batch)\n",
    "#     return train_dataloader, test_dataloader\n",
    "\n",
    "def getDatasets(dataset_path, BATCH_SIZE, trainer):\n",
    "    train_iter, test_iter = reviews(root=dataset_path)\n",
    "    train_dataset = to_map_style_dataset(train_iter)\n",
    "    test_dataset = to_map_style_dataset(test_iter)\n",
    "    num_train = int(len(train_dataset) * 0.95)\n",
    "    split_train_, split_valid_ = random_split(train_dataset, [num_train, len(train_dataset) - num_train])\n",
    "\n",
    "    train_dataloader = DataLoader(split_train_, batch_size=BATCH_SIZE,\n",
    "                                    shuffle=True, collate_fn=trainer.collate_batch)\n",
    "    valid_dataloader = DataLoader(split_valid_, batch_size=BATCH_SIZE,\n",
    "                                    shuffle=True, collate_fn=trainer.collate_batch)\n",
    "    test_dataloader = DataLoader(test_dataset, batch_size=BATCH_SIZE,\n",
    "                                    shuffle=True, collate_fn=trainer.collate_batch)\n",
    "    return train_dataloader, valid_dataloader, test_dataloader\n"
   ]
  },
  {
   "cell_type": "code",
   "execution_count": 8,
   "metadata": {},
   "outputs": [],
   "source": [
    "ptm = pd.read_json(\"FinalDatasets/complete_dataset_ptm.json\")"
   ]
  },
  {
   "cell_type": "code",
   "execution_count": 27,
   "metadata": {},
   "outputs": [
    {
     "data": {
      "text/plain": [
       "<AxesSubplot:>"
      ]
     },
     "execution_count": 27,
     "metadata": {},
     "output_type": "execute_result"
    },
    {
     "data": {
      "image/png": "[encoded data removed]",
      "text/plain": [
       "<Figure size 432x288 with 1 Axes>"
      ]
     },
     "metadata": {
      "needs_background": "light"
     },
     "output_type": "display_data"
    }
   ],
   "source": [
    "ptm['label'].hist()"
   ]
  },
  {
   "cell_type": "code",
   "execution_count": 3,
   "metadata": {},
   "outputs": [
    {
     "name": "stdout",
     "output_type": "stream",
     "text": [
      "-----------------------------------------------------------\n",
      "| end of epoch   1 | time:  3.79s | valid accuracy    0.883 \n",
      "-----------------------------------------------------------\n",
      "-----------------------------------------------------------\n",
      "| end of epoch   2 | time:  1.59s | valid accuracy    0.900 \n",
      "-----------------------------------------------------------\n",
      "-----------------------------------------------------------\n",
      "| end of epoch   3 | time:  1.66s | valid accuracy    0.926 \n",
      "-----------------------------------------------------------\n",
      "-----------------------------------------------------------\n",
      "| end of epoch   4 | time:  1.96s | valid accuracy    0.937 \n",
      "-----------------------------------------------------------\n",
      "-----------------------------------------------------------\n",
      "| end of epoch   5 | time:  2.25s | valid accuracy    0.938 \n",
      "-----------------------------------------------------------\n",
      "-----------------------------------------------------------\n",
      "| end of epoch   6 | time:  2.10s | valid accuracy    0.953 \n",
      "-----------------------------------------------------------\n",
      "-----------------------------------------------------------\n",
      "| end of epoch   7 | time:  2.44s | valid accuracy    0.950 \n",
      "-----------------------------------------------------------\n",
      "-----------------------------------------------------------\n",
      "| end of epoch   8 | time:  2.32s | valid accuracy    0.962 \n",
      "-----------------------------------------------------------\n",
      "-----------------------------------------------------------\n",
      "| end of epoch   9 | time:  2.48s | valid accuracy    0.961 \n",
      "-----------------------------------------------------------\n",
      "-----------------------------------------------------------\n",
      "| end of epoch  10 | time:  2.06s | valid accuracy    0.961 \n",
      "-----------------------------------------------------------\n"
     ]
    }
   ],
   "source": [
    "# Hyperparameters\n",
    "EPOCHS = 10  # epoch\n",
    "LR = 5  # learning rate\n",
    "BATCH_SIZE = 64  # batch size for training\n",
    "\n",
    "dataset_path = 'FinalDatasets/complete_dataset_ptm.json'\n",
    "device = torch.device(\"cuda\" if torch.cuda.is_available() else \"cpu\")\n",
    "dataset = reviews(root=dataset_path, split='train')\n",
    "\n",
    "trainer = Trainer(dataset, device, LR)\n",
    "# train_dataloader, test_dataloader = getDatasets(dataset_path, BATCH_SIZE, trainer)\n",
    "train_dataloader, valid_dataloader, test_dataloader = getDatasets(dataset_path, BATCH_SIZE, trainer)\n",
    "train(trainer, train_dataloader, test_dataloader)\n",
    "\n",
    "\n",
    "# train(trainer, dataset_path)\n",
    "\n",
    "# reviews_labels = {1: \"Negative\",\n",
    "#                     2: \"Neutral\",\n",
    "#                     3: \"Positive\"}\n",
    "\n",
    "# ex_text_str1 = \"Super mega proszek, bardzo dobry\"\n",
    "# ex_text_str2 = \"Totalny badziew szkoda pieniędzy, beznadziejny, porażka\"\n",
    "# ex_text_str3 = \"Nie domywa ale ładnie pachnie. Zostają smugi\"\n",
    "# ex_text_str4 = \"Nie rozpuszczają się, dobrze domywają, ładnie pachną, ale bardzo drogie\"\n",
    "\n",
    "# print(\"This is a %s review\" % reviews_labels[trainer.predict(ex_text_str1)])\n",
    "# print(\"This is a %s review\" % reviews_labels[trainer.predict(ex_text_str2)])\n",
    "# print(\"This is a %s review\" % reviews_labels[trainer.predict(ex_text_str3)])\n",
    "# print(\"This is a %s review\" % reviews_labels[trainer.predict(ex_text_str4)])\n"
   ]
  },
  {
   "cell_type": "code",
   "execution_count": 18,
   "metadata": {},
   "outputs": [],
   "source": [
    "preds, labels = predict(trainer, train_dataloader)"
   ]
  },
  {
   "cell_type": "code",
   "execution_count": 22,
   "metadata": {},
   "outputs": [
    {
     "data": {
      "text/plain": [
       "(array([ 346.,    0.,    0.,    0.,    0.,    0.,    0.,    0.,    0.,\n",
       "        9606.]),\n",
       " array([0. , 0.1, 0.2, 0.3, 0.4, 0.5, 0.6, 0.7, 0.8, 0.9, 1. ]),\n",
       " <BarContainer object of 10 artists>)"
      ]
     },
     "execution_count": 22,
     "metadata": {},
     "output_type": "execute_result"
    },
    {
     "data": {
      "image/png": "[encoded data removed]",
      "text/plain": [
       "<Figure size 432x288 with 1 Axes>"
      ]
     },
     "metadata": {
      "needs_background": "light"
     },
     "output_type": "display_data"
    }
   ],
   "source": [
    "plt.hist(preds)"
   ]
  },
  {
   "cell_type": "code",
   "execution_count": 20,
   "metadata": {},
   "outputs": [
    {
     "name": "stderr",
     "output_type": "stream",
     "text": [
      "c:\\Users\\QbaSo\\AppData\\Local\\Programs\\Python\\Python39\\lib\\site-packages\\sklearn\\metrics\\_classification.py:1318: UndefinedMetricWarning: Recall is ill-defined and being set to 0.0 in labels with no true samples. Use `zero_division` parameter to control this behavior.\n",
      "  _warn_prf(average, modifier, msg_start, len(result))\n"
     ]
    },
    {
     "data": {
      "text/html": [
       "<div>\n",
       "<style scoped>\n",
       "    .dataframe tbody tr th:only-of-type {\n",
       "        vertical-align: middle;\n",
       "    }\n",
       "\n",
       "    .dataframe tbody tr th {\n",
       "        vertical-align: top;\n",
       "    }\n",
       "\n",
       "    .dataframe thead th {\n",
       "        text-align: right;\n",
       "    }\n",
       "</style>\n",
       "<table border=\"1\" class=\"dataframe\">\n",
       "  <thead>\n",
       "    <tr style=\"text-align: right;\">\n",
       "      <th></th>\n",
       "      <th>dataset</th>\n",
       "      <th>accuracy</th>\n",
       "      <th>recall</th>\n",
       "      <th>f1_score</th>\n",
       "      <th>training samples</th>\n",
       "    </tr>\n",
       "  </thead>\n",
       "  <tbody>\n",
       "    <tr>\n",
       "      <th>0</th>\n",
       "      <td>ShardingFilterIterDataPipe</td>\n",
       "      <td>0.033</td>\n",
       "      <td>[0.249, 0.024, 0.0]</td>\n",
       "      <td>[0.155, 0.046, 0.0]</td>\n",
       "      <td>9952</td>\n",
       "    </tr>\n",
       "  </tbody>\n",
       "</table>\n",
       "</div>"
      ],
      "text/plain": [
       "                      dataset  accuracy               recall  \\\n",
       "0  ShardingFilterIterDataPipe     0.033  [0.249, 0.024, 0.0]   \n",
       "\n",
       "              f1_score  training samples  \n",
       "0  [0.155, 0.046, 0.0]              9952  "
      ]
     },
     "execution_count": 20,
     "metadata": {},
     "output_type": "execute_result"
    },
    {
     "data": {
      "image/png": "[encoded data removed]",
      "text/plain": [
       "<Figure size 432x288 with 2 Axes>"
      ]
     },
     "metadata": {
      "needs_background": "light"
     },
     "output_type": "display_data"
    }
   ],
   "source": [
    "evaluate(trainer, test_dataloader)"
   ]
  }
 ],
 "metadata": {
  "kernelspec": {
   "display_name": "Python 3",
   "language": "python",
   "name": "python3"
  },
  "language_info": {
   "codemirror_mode": {
    "name": "ipython",
    "version": 3
   },
   "file_extension": ".py",
   "mimetype": "text/x-python",
   "name": "python",
   "nbconvert_exporter": "python",
   "pygments_lexer": "ipython3",
   "version": "3.9.10"
  },
  "orig_nbformat": 4,
  "vscode": {
   "interpreter": {
    "hash": "4249f8e087ad731f5e338836e2eb79540285f90ed1dfcc5ccaf8d5c2082bb200"
   }
  }
 },
 "nbformat": 4,
 "nbformat_minor": 2
}
