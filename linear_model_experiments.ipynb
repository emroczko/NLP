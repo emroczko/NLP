{
 "cells": [
  {
   "cell_type": "code",
   "execution_count": 1,
   "metadata": {},
   "outputs": [
    {
     "name": "stderr",
     "output_type": "stream",
     "text": [
      "c:\\Users\\QbaSo\\AppData\\Local\\Programs\\Python\\Python39\\lib\\site-packages\\requests\\__init__.py:102: RequestsDependencyWarning: urllib3 (1.26.9) or chardet (5.1.0)/charset_normalizer (2.0.12) doesn't match a supported version!\n",
      "  warnings.warn(\"urllib3 ({}) or chardet ({})/charset_normalizer ({}) doesn't match a supported \"\n"
     ]
    }
   ],
   "source": [
    "import time\n",
    "import torch\n",
    "from torch.utils.data import DataLoader, random_split\n",
    "from torchtext.data import to_map_style_dataset\n",
    "\n",
    "from reviews_dataset import reviews\n",
    "from trainer import Trainer"
   ]
  },
  {
   "cell_type": "code",
   "execution_count": 5,
   "metadata": {},
   "outputs": [],
   "source": [
    "def train(trainer: Trainer, dataset_path: str, EPOCHS = 10, LR = 5, BATCH_SIZE = 64):\n",
    "    total_accu = None\n",
    "    train_iter, test_iter = reviews(root=dataset_path)\n",
    "    train_dataset = to_map_style_dataset(train_iter)\n",
    "    test_dataset = to_map_style_dataset(test_iter)\n",
    "    num_train = int(len(train_dataset) * 0.95)\n",
    "    split_train_, split_valid_ = \\\n",
    "        random_split(train_dataset, [num_train, len(train_dataset) - num_train])\n",
    "\n",
    "    train_dataloader = DataLoader(split_train_, batch_size=BATCH_SIZE,\n",
    "                                  shuffle=True, collate_fn=trainer.collate_batch)\n",
    "    valid_dataloader = DataLoader(split_valid_, batch_size=BATCH_SIZE,\n",
    "                                  shuffle=True, collate_fn=trainer.collate_batch)\n",
    "    test_dataloader = DataLoader(test_dataset, batch_size=BATCH_SIZE,\n",
    "                                 shuffle=True, collate_fn=trainer.collate_batch)\n",
    "\n",
    "    for epoch in range(1, EPOCHS + 1):\n",
    "        epoch_start_time = time.time()\n",
    "        trainer.train(train_dataloader, epoch)\n",
    "        accu_val = trainer.evaluate(valid_dataloader)\n",
    "        if total_accu is not None and total_accu > accu_val:\n",
    "            trainer.scheduler.step()\n",
    "        else:\n",
    "            total_accu = accu_val\n",
    "        print('-' * 59)\n",
    "        print('| end of epoch {:3d} | time: {:5.2f}s | '\n",
    "              'valid accuracy {:8.3f} '.format(epoch,\n",
    "                                               time.time() - epoch_start_time,\n",
    "                                               accu_val))\n",
    "        print('-' * 59)\n",
    "\n",
    "    print('Checking the results of test dataset.')\n",
    "    # accu_test = trainer.evaluate(test_dataloader)\n",
    "    # print('test accuracy {:8.3f}'.format(accu_test))\n",
    "\n",
    "    # trainer.model = trainer.model.to(\"cpu\")\n",
    "    # return trainer\n",
    "\n",
    "def evaluate(trainer, dataloader: DataLoader):\n",
    "    trainer.model.eval()\n",
    "    total_acc, total_count = 0, 0\n",
    "\n",
    "    with torch.no_grad():\n",
    "        for idx, (label, text, offsets) in enumerate(dataloader):\n",
    "            predicted_label = trainer.model(text, offsets)\n",
    "            loss = trainer.criterion(predicted_label, label)\n",
    "            total_acc += (predicted_label.argmax(1) == label).sum().item()\n",
    "            total_count += label.size(0)\n",
    "    return total_acc / total_count\n",
    "\n",
    "def evaluate(model, df_test):\n",
    "    preds, y_test = predict(model, df_test)\n",
    "    accuracy = accuracy_score(preds, y_test)\n",
    "    recall = recall_score(preds, y_test, average=None)\n",
    "    cm = confusion_matrix(preds, y_test)\n",
    "    disp = ConfusionMatrixDisplay(confusion_matrix=cm, display_labels=['neg','neu','pos'])\n",
    "    f1 = f1_score(preds, y_test, average=None)\n",
    "    disp.plot()\n",
    "\n",
    "    return pd.DataFrame({'dataset':[dataset], 'accuracy':[np.round(accuracy, 3)], 'recall':[np.round(recall, 3)], 'f1_score':[np.round(f1,3)], 'training samples':[len(df_train)]})"
   ]
  },
  {
   "cell_type": "code",
   "execution_count": null,
   "metadata": {},
   "outputs": [],
   "source": [
    "datasets = os.listdir(\"../FinalDatasets/\")"
   ]
  },
  {
   "cell_type": "code",
   "execution_count": 6,
   "metadata": {},
   "outputs": [
    {
     "name": "stdout",
     "output_type": "stream",
     "text": [
      "-----------------------------------------------------------\n",
      "| end of epoch   1 | time:  1.53s | valid accuracy    0.860 \n",
      "-----------------------------------------------------------\n",
      "-----------------------------------------------------------\n",
      "| end of epoch   2 | time:  1.37s | valid accuracy    0.871 \n",
      "-----------------------------------------------------------\n",
      "-----------------------------------------------------------\n",
      "| end of epoch   3 | time:  1.33s | valid accuracy    0.879 \n",
      "-----------------------------------------------------------\n",
      "-----------------------------------------------------------\n",
      "| end of epoch   4 | time:  1.55s | valid accuracy    0.889 \n",
      "-----------------------------------------------------------\n",
      "-----------------------------------------------------------\n",
      "| end of epoch   5 | time:  1.44s | valid accuracy    0.907 \n",
      "-----------------------------------------------------------\n",
      "-----------------------------------------------------------\n",
      "| end of epoch   6 | time:  1.41s | valid accuracy    0.881 \n",
      "-----------------------------------------------------------\n",
      "-----------------------------------------------------------\n",
      "| end of epoch   7 | time:  1.55s | valid accuracy    0.892 \n",
      "-----------------------------------------------------------\n",
      "-----------------------------------------------------------\n",
      "| end of epoch   8 | time:  1.55s | valid accuracy    0.892 \n",
      "-----------------------------------------------------------\n",
      "-----------------------------------------------------------\n",
      "| end of epoch   9 | time:  1.51s | valid accuracy    0.892 \n",
      "-----------------------------------------------------------\n",
      "-----------------------------------------------------------\n",
      "| end of epoch  10 | time:  1.52s | valid accuracy    0.892 \n",
      "-----------------------------------------------------------\n",
      "Checking the results of test dataset.\n"
     ]
    }
   ],
   "source": [
    "# Hyperparameters\n",
    "EPOCHS = 10  # epoch\n",
    "LR = 5  # learning rate\n",
    "BATCH_SIZE = 64  # batch size for training\n",
    "\n",
    "\n",
    "dataset_path = 'ProcessedDatasets/all_reviews.json'\n",
    "device = torch.device(\"cuda\" if torch.cuda.is_available() else \"cpu\")\n",
    "dataset = reviews(root=dataset_path, split='train')\n",
    "\n",
    "trainer = Trainer(dataset, device, LR)\n",
    "train(trainer, dataset_path)\n",
    "\n",
    "# reviews_labels = {1: \"Negative\",\n",
    "#                     2: \"Neutral\",\n",
    "#                     3: \"Positive\"}\n",
    "\n",
    "# ex_text_str1 = \"Super mega proszek, bardzo dobry\"\n",
    "# ex_text_str2 = \"Totalny badziew szkoda pieniędzy, beznadziejny, porażka\"\n",
    "# ex_text_str3 = \"Nie domywa ale ładnie pachnie. Zostają smugi\"\n",
    "# ex_text_str4 = \"Nie rozpuszczają się, dobrze domywają, ładnie pachną, ale bardzo drogie\"\n",
    "\n",
    "# print(\"This is a %s review\" % reviews_labels[trainer.predict(ex_text_str1)])\n",
    "# print(\"This is a %s review\" % reviews_labels[trainer.predict(ex_text_str2)])\n",
    "# print(\"This is a %s review\" % reviews_labels[trainer.predict(ex_text_str3)])\n",
    "# print(\"This is a %s review\" % reviews_labels[trainer.predict(ex_text_str4)])\n"
   ]
  },
  {
   "cell_type": "code",
   "execution_count": null,
   "metadata": {},
   "outputs": [],
   "source": [
    "evaluate(trainer, dataloader: DataLoader)"
   ]
  }
 ],
 "metadata": {
  "kernelspec": {
   "display_name": "Python 3",
   "language": "python",
   "name": "python3"
  },
  "language_info": {
   "codemirror_mode": {
    "name": "ipython",
    "version": 3
   },
   "file_extension": ".py",
   "mimetype": "text/x-python",
   "name": "python",
   "nbconvert_exporter": "python",
   "pygments_lexer": "ipython3",
   "version": "3.9.10"
  },
  "orig_nbformat": 4,
  "vscode": {
   "interpreter": {
    "hash": "4249f8e087ad731f5e338836e2eb79540285f90ed1dfcc5ccaf8d5c2082bb200"
   }
  }
 },
 "nbformat": 4,
 "nbformat_minor": 2
}
